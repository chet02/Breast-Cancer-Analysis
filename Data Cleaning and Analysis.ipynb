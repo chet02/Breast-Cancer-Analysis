{
 "cells": [
  {
   "cell_type": "code",
   "execution_count": 55,
   "id": "3bf9f9a3",
   "metadata": {},
   "outputs": [],
   "source": [
    "import pandas as pd\n",
    "import os\n",
    "import numpy as np\n",
    "import matplotlib.pyplot as plt\n",
    "import seaborn as sns"
   ]
  },
  {
   "cell_type": "markdown",
   "id": "b9002716",
   "metadata": {},
   "source": [
    "### Merge all csv files"
   ]
  },
  {
   "cell_type": "code",
   "execution_count": 17,
   "id": "db66776e",
   "metadata": {},
   "outputs": [],
   "source": [
    "raw_data = pd.concat(\n",
    "    map(pd.read_csv, ['./RawDataFiles/breastcancerdata1.csv', './RawDataFiles/breastcancerdata2.csv', \n",
    "                      './RawDataFiles/breastcancerdata3.csv']), ignore_index=True)\n",
    "\n",
    "raw_data.head()\n",
    "\n",
    "raw_data.to_csv(\"raw_data1.csv\", index=False)"
   ]
  },
  {
   "cell_type": "code",
   "execution_count": 16,
   "id": "dbbfd0e7",
   "metadata": {},
   "outputs": [
    {
     "data": {
      "text/plain": [
       "(1522340, 13)"
      ]
     },
     "execution_count": 16,
     "metadata": {},
     "output_type": "execute_result"
    }
   ],
   "source": [
    "raw_data.shape"
   ]
  },
  {
   "cell_type": "markdown",
   "id": "13222bfa",
   "metadata": {},
   "source": [
    "### Add the new columns "
   ]
  },
  {
   "cell_type": "markdown",
   "id": "486a909e",
   "metadata": {},
   "source": [
    "#### Data types of the columns"
   ]
  },
  {
   "cell_type": "code",
   "execution_count": 19,
   "id": "4f242899",
   "metadata": {},
   "outputs": [
    {
     "name": "stdout",
     "output_type": "stream",
     "text": [
      "year                        int64\n",
      "age_group_ID                int64\n",
      "ethinicity_ID               int64\n",
      "first_degree_hx_ID          int64\n",
      "age_menarche_ID             int64\n",
      "age_first_birth_ID          int64\n",
      "BIRADS_breast_density_ID    int64\n",
      "current_hrt_ID              int64\n",
      "menopaus_ID                 int64\n",
      "bmi_group_ID                int64\n",
      "biophx_ID                   int64\n",
      "breast_cancer_history_ID    int64\n",
      "count                       int64\n",
      "dtype: object\n"
     ]
    },
    {
     "data": {
      "text/html": [
       "<div>\n",
       "<style scoped>\n",
       "    .dataframe tbody tr th:only-of-type {\n",
       "        vertical-align: middle;\n",
       "    }\n",
       "\n",
       "    .dataframe tbody tr th {\n",
       "        vertical-align: top;\n",
       "    }\n",
       "\n",
       "    .dataframe thead th {\n",
       "        text-align: right;\n",
       "    }\n",
       "</style>\n",
       "<table border=\"1\" class=\"dataframe\">\n",
       "  <thead>\n",
       "    <tr style=\"text-align: right;\">\n",
       "      <th></th>\n",
       "      <th>year</th>\n",
       "      <th>age_group_ID</th>\n",
       "      <th>ethinicity_ID</th>\n",
       "      <th>first_degree_hx_ID</th>\n",
       "      <th>age_menarche_ID</th>\n",
       "      <th>age_first_birth_ID</th>\n",
       "      <th>BIRADS_breast_density_ID</th>\n",
       "      <th>current_hrt_ID</th>\n",
       "      <th>menopaus_ID</th>\n",
       "      <th>bmi_group_ID</th>\n",
       "      <th>biophx_ID</th>\n",
       "      <th>breast_cancer_history_ID</th>\n",
       "      <th>count</th>\n",
       "    </tr>\n",
       "  </thead>\n",
       "  <tbody>\n",
       "    <tr>\n",
       "      <th>0</th>\n",
       "      <td>2005</td>\n",
       "      <td>1</td>\n",
       "      <td>1</td>\n",
       "      <td>0</td>\n",
       "      <td>0</td>\n",
       "      <td>0</td>\n",
       "      <td>2</td>\n",
       "      <td>0</td>\n",
       "      <td>1</td>\n",
       "      <td>9</td>\n",
       "      <td>0</td>\n",
       "      <td>0</td>\n",
       "      <td>2</td>\n",
       "    </tr>\n",
       "    <tr>\n",
       "      <th>1</th>\n",
       "      <td>2005</td>\n",
       "      <td>1</td>\n",
       "      <td>1</td>\n",
       "      <td>0</td>\n",
       "      <td>0</td>\n",
       "      <td>0</td>\n",
       "      <td>4</td>\n",
       "      <td>0</td>\n",
       "      <td>1</td>\n",
       "      <td>1</td>\n",
       "      <td>0</td>\n",
       "      <td>0</td>\n",
       "      <td>1</td>\n",
       "    </tr>\n",
       "    <tr>\n",
       "      <th>2</th>\n",
       "      <td>2005</td>\n",
       "      <td>1</td>\n",
       "      <td>1</td>\n",
       "      <td>0</td>\n",
       "      <td>0</td>\n",
       "      <td>0</td>\n",
       "      <td>4</td>\n",
       "      <td>0</td>\n",
       "      <td>1</td>\n",
       "      <td>2</td>\n",
       "      <td>0</td>\n",
       "      <td>0</td>\n",
       "      <td>1</td>\n",
       "    </tr>\n",
       "    <tr>\n",
       "      <th>3</th>\n",
       "      <td>2005</td>\n",
       "      <td>1</td>\n",
       "      <td>1</td>\n",
       "      <td>0</td>\n",
       "      <td>0</td>\n",
       "      <td>0</td>\n",
       "      <td>4</td>\n",
       "      <td>0</td>\n",
       "      <td>1</td>\n",
       "      <td>9</td>\n",
       "      <td>0</td>\n",
       "      <td>0</td>\n",
       "      <td>2</td>\n",
       "    </tr>\n",
       "    <tr>\n",
       "      <th>4</th>\n",
       "      <td>2005</td>\n",
       "      <td>1</td>\n",
       "      <td>1</td>\n",
       "      <td>0</td>\n",
       "      <td>0</td>\n",
       "      <td>1</td>\n",
       "      <td>4</td>\n",
       "      <td>0</td>\n",
       "      <td>1</td>\n",
       "      <td>4</td>\n",
       "      <td>0</td>\n",
       "      <td>0</td>\n",
       "      <td>1</td>\n",
       "    </tr>\n",
       "  </tbody>\n",
       "</table>\n",
       "</div>"
      ],
      "text/plain": [
       "   year  age_group_ID  ethinicity_ID  first_degree_hx_ID  age_menarche_ID  \\\n",
       "0  2005             1              1                   0                0   \n",
       "1  2005             1              1                   0                0   \n",
       "2  2005             1              1                   0                0   \n",
       "3  2005             1              1                   0                0   \n",
       "4  2005             1              1                   0                0   \n",
       "\n",
       "   age_first_birth_ID  BIRADS_breast_density_ID  current_hrt_ID  menopaus_ID  \\\n",
       "0                   0                         2               0            1   \n",
       "1                   0                         4               0            1   \n",
       "2                   0                         4               0            1   \n",
       "3                   0                         4               0            1   \n",
       "4                   1                         4               0            1   \n",
       "\n",
       "   bmi_group_ID  biophx_ID  breast_cancer_history_ID  count  \n",
       "0             9          0                         0      2  \n",
       "1             1          0                         0      1  \n",
       "2             2          0                         0      1  \n",
       "3             9          0                         0      2  \n",
       "4             4          0                         0      1  "
      ]
     },
     "execution_count": 19,
     "metadata": {},
     "output_type": "execute_result"
    }
   ],
   "source": [
    "print(raw_data.dtypes)\n",
    "raw_data.head()"
   ]
  },
  {
   "cell_type": "markdown",
   "id": "d70152fa",
   "metadata": {},
   "source": [
    "### Adding Menopaus column"
   ]
  },
  {
   "cell_type": "code",
   "execution_count": 21,
   "id": "a63f079b",
   "metadata": {},
   "outputs": [],
   "source": [
    "def map_values(row, values_dict):\n",
    "    return values_dict[row]\n",
    "\n",
    "values_dict = {1: 'Pre- or peri-menopausal', 2: 'Post-menopausal', 3:'Surgical menopausal', 9:'Unknown'}\n",
    "\n",
    "raw_data['menopaus'] = raw_data['menopaus_ID'].apply(map_values, args =(values_dict,))"
   ]
  },
  {
   "cell_type": "markdown",
   "id": "0152e550",
   "metadata": {},
   "source": [
    "### Adding age_group column"
   ]
  },
  {
   "cell_type": "code",
   "execution_count": 24,
   "id": "daf9c176",
   "metadata": {},
   "outputs": [],
   "source": [
    "def map_values2(row, values_dict):\n",
    "    return values_dict[row]\n",
    "\n",
    "values_dict = {1: 'Age 18-29', 2: 'Age 30-34', 3:'Age 35-39', 4:'Age 40-44',\n",
    "               5:'Age 45-49', 6:'Age 50-54', 7:'Age 55-59', 8:'Age 60-64', 9:'Age 65-69', \n",
    "               10:'Age 70-74',11:'Age 75-79', 12:'Age 80-84', 13:'Age >=85' }\n",
    "\n",
    "raw_data['age_group'] = raw_data['age_group_ID'].apply(map_values2, args =(values_dict,))"
   ]
  },
  {
   "cell_type": "markdown",
   "id": "0a5ca66f",
   "metadata": {},
   "source": [
    "### Adding ethnicity column"
   ]
  },
  {
   "cell_type": "code",
   "execution_count": 26,
   "id": "606e694d",
   "metadata": {},
   "outputs": [],
   "source": [
    "def map_values3(row, values_dict):\n",
    "    return values_dict[row]\n",
    "\n",
    "values_dict = {1: 'Non-Hispanic White', 2: 'Non-Hispanic Black', 3:'Asian/Pacific Islander', 4:'Native American',\n",
    "               5:'Hispanic', 6:'Other/Mixed', 9:'Unknown'}\n",
    "\n",
    "raw_data['ethinicity'] = raw_data['ethinicity_ID'].apply(map_values3, args =(values_dict,))"
   ]
  },
  {
   "cell_type": "markdown",
   "id": "f06f67ef",
   "metadata": {},
   "source": [
    "### Adding BMI column"
   ]
  },
  {
   "cell_type": "code",
   "execution_count": 28,
   "id": "f44a55a7",
   "metadata": {},
   "outputs": [],
   "source": [
    "def map_values4(row, values_dict):\n",
    "    return values_dict[row]\n",
    "\n",
    "values_dict = {1: '10-24.99', 2: '25-29.99', 3:'30-34.99',\n",
    "               4:'35 or more', 9:'Unknown'}\n",
    "\n",
    "raw_data['bmi_group'] = raw_data['bmi_group_ID'].apply(map_values4, args =(values_dict,))"
   ]
  },
  {
   "cell_type": "markdown",
   "id": "3eaf4356",
   "metadata": {},
   "source": [
    "### Adding Breast Cancer History Column"
   ]
  },
  {
   "cell_type": "code",
   "execution_count": 30,
   "id": "765a176b",
   "metadata": {},
   "outputs": [],
   "source": [
    "def map_values5(row, values_dict):\n",
    "    return values_dict[row]\n",
    "\n",
    "values_dict = {0: 'No', 1: 'Yes', 9:'Unknown'}\n",
    "\n",
    "raw_data['breast_cancer_history'] = raw_data['breast_cancer_history_ID'].apply(map_values5, args =(values_dict,))"
   ]
  },
  {
   "cell_type": "markdown",
   "id": "f57b0ff4",
   "metadata": {},
   "source": [
    "### Adding Age_first_birth column"
   ]
  },
  {
   "cell_type": "code",
   "execution_count": 32,
   "id": "59b1a921",
   "metadata": {},
   "outputs": [],
   "source": [
    "def map_values6(row, values_dict):\n",
    "    return values_dict[row]\n",
    "\n",
    "values_dict = {0: 'Age < 20', 1: 'Age 20-24', 2:'Age 25-29', 3:'Age >=30',\n",
    "               4:'Nulliparous', 9:'Unknown'}\n",
    "\n",
    "raw_data['age_first_birth'] = raw_data['age_first_birth_ID'].apply(map_values6, args =(values_dict,))"
   ]
  },
  {
   "cell_type": "markdown",
   "id": "536cb95b",
   "metadata": {},
   "source": [
    "### Adding age_menarche column"
   ]
  },
  {
   "cell_type": "code",
   "execution_count": 34,
   "id": "33c479a7",
   "metadata": {},
   "outputs": [],
   "source": [
    "def map_values7(row, values_dict):\n",
    "    return values_dict[row]\n",
    "\n",
    "values_dict = {0: 'Age >=14', 1: 'Age 12-13', 2:'Age <12', 9:'Unknown'}\n",
    "\n",
    "raw_data['age_menarche'] = raw_data['age_menarche_ID'].apply(map_values7, args =(values_dict,))"
   ]
  },
  {
   "cell_type": "markdown",
   "id": "c2989a6c",
   "metadata": {},
   "source": [
    "### Adding BIRAIDS_breast_density column"
   ]
  },
  {
   "cell_type": "code",
   "execution_count": 36,
   "id": "aca5aa7a",
   "metadata": {},
   "outputs": [],
   "source": [
    "def map_values8(row, values_dict):\n",
    "    return values_dict[row]\n",
    "\n",
    "values_dict = {1: 'Almost entirely fat', 2: 'Scattered fibroglandular densities', 3:'Heterogeneously dense', \n",
    "               4:'Extremely dense',  9:'Unknown or different measurement system'}\n",
    "\n",
    "raw_data['BIRADS_breast_density'] = raw_data['BIRADS_breast_density_ID'].apply(map_values8, args =(values_dict,))"
   ]
  },
  {
   "cell_type": "markdown",
   "id": "8325d85a",
   "metadata": {},
   "source": [
    "### Adding biophx Column"
   ]
  },
  {
   "cell_type": "code",
   "execution_count": 39,
   "id": "9299808d",
   "metadata": {},
   "outputs": [],
   "source": [
    "def map_values9(row, values_dict):\n",
    "    return values_dict[row]\n",
    "\n",
    "values_dict = {0: 'No', 1: 'Yes', 9:'Unknown'}\n",
    "\n",
    "raw_data['biophx'] = raw_data['biophx_ID'].apply(map_values9, args =(values_dict,))"
   ]
  },
  {
   "cell_type": "markdown",
   "id": "dedf1ee3",
   "metadata": {},
   "source": [
    "### Adding current_hrt column"
   ]
  },
  {
   "cell_type": "code",
   "execution_count": 42,
   "id": "670b200a",
   "metadata": {},
   "outputs": [],
   "source": [
    "def map_values10(row, values_dict):\n",
    "    return values_dict[row]\n",
    "\n",
    "values_dict = {0: 'No', 1: 'Yes', 9:'Unknown'}\n",
    "\n",
    "raw_data['current_hrt'] = raw_data['current_hrt_ID'].apply(map_values10, args =(values_dict,))"
   ]
  },
  {
   "cell_type": "markdown",
   "id": "aa722138",
   "metadata": {},
   "source": [
    "### Adding first_degree_hx"
   ]
  },
  {
   "cell_type": "code",
   "execution_count": 44,
   "id": "f4a21936",
   "metadata": {},
   "outputs": [],
   "source": [
    "def map_values11(row, values_dict):\n",
    "    return values_dict[row]\n",
    "\n",
    "values_dict = {0: 'No', 1: 'Yes', 9:'Unknown'}\n",
    "\n",
    "raw_data['first_degree_hx'] = raw_data['first_degree_hx_ID'].apply(map_values11, args =(values_dict,))"
   ]
  },
  {
   "cell_type": "markdown",
   "id": "b00811f8",
   "metadata": {},
   "source": [
    "### Save new Raw Data File with new columns"
   ]
  },
  {
   "cell_type": "code",
   "execution_count": 46,
   "id": "97eea0c9",
   "metadata": {},
   "outputs": [],
   "source": [
    "raw_data.to_csv(\"raw_data_labels.csv\", index=False)"
   ]
  },
  {
   "cell_type": "markdown",
   "id": "019eadd1",
   "metadata": {},
   "source": [
    "### removing old columns"
   ]
  },
  {
   "cell_type": "code",
   "execution_count": 47,
   "id": "ff6e0530",
   "metadata": {},
   "outputs": [
    {
     "name": "stdout",
     "output_type": "stream",
     "text": [
      "['year', 'age_group_ID', 'ethinicity_ID', 'first_degree_hx_ID', 'age_menarche_ID', 'age_first_birth_ID', 'BIRADS_breast_density_ID', 'current_hrt_ID', 'menopaus_ID', 'bmi_group_ID', 'biophx_ID', 'breast_cancer_history_ID', 'count', 'menopaus', 'age_group', 'ethinicity', 'bmi_group', 'breast_cancer_history', 'age_first_birth', 'age_menarche', 'BIRADS_breast_density', 'biophx', 'current_hrt', 'first_degree_hx']\n"
     ]
    }
   ],
   "source": [
    "column_names = list(raw_data.columns.values)\n",
    "print(column_names)"
   ]
  },
  {
   "cell_type": "code",
   "execution_count": 48,
   "id": "728e7a92",
   "metadata": {},
   "outputs": [],
   "source": [
    "new_raw_data = raw_data[['year', 'age_group', 'ethinicity', 'bmi_group', 'breast_cancer_history', \n",
    "                         'age_first_birth', 'age_menarche','menopaus','BIRADS_breast_density', \n",
    "                         'biophx', 'current_hrt', 'first_degree_hx','count']]"
   ]
  },
  {
   "cell_type": "code",
   "execution_count": 49,
   "id": "f58bf1e4",
   "metadata": {},
   "outputs": [
    {
     "data": {
      "text/html": [
       "<div>\n",
       "<style scoped>\n",
       "    .dataframe tbody tr th:only-of-type {\n",
       "        vertical-align: middle;\n",
       "    }\n",
       "\n",
       "    .dataframe tbody tr th {\n",
       "        vertical-align: top;\n",
       "    }\n",
       "\n",
       "    .dataframe thead th {\n",
       "        text-align: right;\n",
       "    }\n",
       "</style>\n",
       "<table border=\"1\" class=\"dataframe\">\n",
       "  <thead>\n",
       "    <tr style=\"text-align: right;\">\n",
       "      <th></th>\n",
       "      <th>year</th>\n",
       "      <th>age_group</th>\n",
       "      <th>ethinicity</th>\n",
       "      <th>bmi_group</th>\n",
       "      <th>breast_cancer_history</th>\n",
       "      <th>age_first_birth</th>\n",
       "      <th>age_menarche</th>\n",
       "      <th>menopaus</th>\n",
       "      <th>BIRADS_breast_density</th>\n",
       "      <th>biophx</th>\n",
       "      <th>current_hrt</th>\n",
       "      <th>first_degree_hx</th>\n",
       "      <th>count</th>\n",
       "    </tr>\n",
       "  </thead>\n",
       "  <tbody>\n",
       "    <tr>\n",
       "      <th>0</th>\n",
       "      <td>2005</td>\n",
       "      <td>Age 18-29</td>\n",
       "      <td>Non-Hispanic White</td>\n",
       "      <td>Unknown</td>\n",
       "      <td>No</td>\n",
       "      <td>Age &lt; 20</td>\n",
       "      <td>Age &gt;=14</td>\n",
       "      <td>Pre- or peri-menopausal</td>\n",
       "      <td>Scattered fibroglandular densities</td>\n",
       "      <td>No</td>\n",
       "      <td>No</td>\n",
       "      <td>No</td>\n",
       "      <td>2</td>\n",
       "    </tr>\n",
       "    <tr>\n",
       "      <th>1</th>\n",
       "      <td>2005</td>\n",
       "      <td>Age 18-29</td>\n",
       "      <td>Non-Hispanic White</td>\n",
       "      <td>10-24.99</td>\n",
       "      <td>No</td>\n",
       "      <td>Age &lt; 20</td>\n",
       "      <td>Age &gt;=14</td>\n",
       "      <td>Pre- or peri-menopausal</td>\n",
       "      <td>Extremely dense</td>\n",
       "      <td>No</td>\n",
       "      <td>No</td>\n",
       "      <td>No</td>\n",
       "      <td>1</td>\n",
       "    </tr>\n",
       "    <tr>\n",
       "      <th>2</th>\n",
       "      <td>2005</td>\n",
       "      <td>Age 18-29</td>\n",
       "      <td>Non-Hispanic White</td>\n",
       "      <td>25-29.99</td>\n",
       "      <td>No</td>\n",
       "      <td>Age &lt; 20</td>\n",
       "      <td>Age &gt;=14</td>\n",
       "      <td>Pre- or peri-menopausal</td>\n",
       "      <td>Extremely dense</td>\n",
       "      <td>No</td>\n",
       "      <td>No</td>\n",
       "      <td>No</td>\n",
       "      <td>1</td>\n",
       "    </tr>\n",
       "    <tr>\n",
       "      <th>3</th>\n",
       "      <td>2005</td>\n",
       "      <td>Age 18-29</td>\n",
       "      <td>Non-Hispanic White</td>\n",
       "      <td>Unknown</td>\n",
       "      <td>No</td>\n",
       "      <td>Age &lt; 20</td>\n",
       "      <td>Age &gt;=14</td>\n",
       "      <td>Pre- or peri-menopausal</td>\n",
       "      <td>Extremely dense</td>\n",
       "      <td>No</td>\n",
       "      <td>No</td>\n",
       "      <td>No</td>\n",
       "      <td>2</td>\n",
       "    </tr>\n",
       "    <tr>\n",
       "      <th>4</th>\n",
       "      <td>2005</td>\n",
       "      <td>Age 18-29</td>\n",
       "      <td>Non-Hispanic White</td>\n",
       "      <td>35 or more</td>\n",
       "      <td>No</td>\n",
       "      <td>Age 20-24</td>\n",
       "      <td>Age &gt;=14</td>\n",
       "      <td>Pre- or peri-menopausal</td>\n",
       "      <td>Extremely dense</td>\n",
       "      <td>No</td>\n",
       "      <td>No</td>\n",
       "      <td>No</td>\n",
       "      <td>1</td>\n",
       "    </tr>\n",
       "  </tbody>\n",
       "</table>\n",
       "</div>"
      ],
      "text/plain": [
       "   year  age_group          ethinicity   bmi_group breast_cancer_history  \\\n",
       "0  2005  Age 18-29  Non-Hispanic White     Unknown                    No   \n",
       "1  2005  Age 18-29  Non-Hispanic White    10-24.99                    No   \n",
       "2  2005  Age 18-29  Non-Hispanic White    25-29.99                    No   \n",
       "3  2005  Age 18-29  Non-Hispanic White     Unknown                    No   \n",
       "4  2005  Age 18-29  Non-Hispanic White  35 or more                    No   \n",
       "\n",
       "  age_first_birth age_menarche                 menopaus  \\\n",
       "0        Age < 20     Age >=14  Pre- or peri-menopausal   \n",
       "1        Age < 20     Age >=14  Pre- or peri-menopausal   \n",
       "2        Age < 20     Age >=14  Pre- or peri-menopausal   \n",
       "3        Age < 20     Age >=14  Pre- or peri-menopausal   \n",
       "4       Age 20-24     Age >=14  Pre- or peri-menopausal   \n",
       "\n",
       "                BIRADS_breast_density biophx current_hrt first_degree_hx  \\\n",
       "0  Scattered fibroglandular densities     No          No              No   \n",
       "1                     Extremely dense     No          No              No   \n",
       "2                     Extremely dense     No          No              No   \n",
       "3                     Extremely dense     No          No              No   \n",
       "4                     Extremely dense     No          No              No   \n",
       "\n",
       "   count  \n",
       "0      2  \n",
       "1      1  \n",
       "2      1  \n",
       "3      2  \n",
       "4      1  "
      ]
     },
     "execution_count": 49,
     "metadata": {},
     "output_type": "execute_result"
    }
   ],
   "source": [
    "new_raw_data.head()"
   ]
  },
  {
   "cell_type": "markdown",
   "id": "9a21204f",
   "metadata": {},
   "source": [
    "### Save new CSV files without the old columns"
   ]
  },
  {
   "cell_type": "code",
   "execution_count": 50,
   "id": "e5de0281",
   "metadata": {},
   "outputs": [],
   "source": [
    "new_raw_data.to_csv(\"new_raw_data.csv\", index=False)"
   ]
  },
  {
   "cell_type": "markdown",
   "id": "bed00292",
   "metadata": {},
   "source": [
    "### Save CSV with first 500 rows "
   ]
  },
  {
   "cell_type": "code",
   "execution_count": 54,
   "id": "4edffedb",
   "metadata": {},
   "outputs": [],
   "source": [
    "# create new dataframe to use in sql server\n",
    "df_new = new_raw_data.head(500)\n",
    "\n",
    "#convert to CSV\n",
    "\n",
    "df_new.to_csv(\"RawData500.csv\", index=False)"
   ]
  },
  {
   "cell_type": "markdown",
   "id": "e53db048",
   "metadata": {},
   "source": [
    "### Reading CSV File for Analysis"
   ]
  },
  {
   "cell_type": "code",
   "execution_count": 56,
   "id": "e824bd72",
   "metadata": {},
   "outputs": [],
   "source": [
    "df = pd.read_csv(\"new_raw_data.csv\")"
   ]
  },
  {
   "cell_type": "code",
   "execution_count": 57,
   "id": "3371db90",
   "metadata": {},
   "outputs": [
    {
     "data": {
      "text/html": [
       "<div>\n",
       "<style scoped>\n",
       "    .dataframe tbody tr th:only-of-type {\n",
       "        vertical-align: middle;\n",
       "    }\n",
       "\n",
       "    .dataframe tbody tr th {\n",
       "        vertical-align: top;\n",
       "    }\n",
       "\n",
       "    .dataframe thead th {\n",
       "        text-align: right;\n",
       "    }\n",
       "</style>\n",
       "<table border=\"1\" class=\"dataframe\">\n",
       "  <thead>\n",
       "    <tr style=\"text-align: right;\">\n",
       "      <th></th>\n",
       "      <th>year</th>\n",
       "      <th>age_group</th>\n",
       "      <th>ethinicity</th>\n",
       "      <th>bmi_group</th>\n",
       "      <th>breast_cancer_history</th>\n",
       "      <th>age_first_birth</th>\n",
       "      <th>age_menarche</th>\n",
       "      <th>menopaus</th>\n",
       "      <th>BIRADS_breast_density</th>\n",
       "      <th>biophx</th>\n",
       "      <th>current_hrt</th>\n",
       "      <th>first_degree_hx</th>\n",
       "      <th>count</th>\n",
       "    </tr>\n",
       "  </thead>\n",
       "  <tbody>\n",
       "    <tr>\n",
       "      <th>0</th>\n",
       "      <td>2005</td>\n",
       "      <td>Age 18-29</td>\n",
       "      <td>Non-Hispanic White</td>\n",
       "      <td>Unknown</td>\n",
       "      <td>No</td>\n",
       "      <td>Age &lt; 20</td>\n",
       "      <td>Age &gt;=14</td>\n",
       "      <td>Pre- or peri-menopausal</td>\n",
       "      <td>Scattered fibroglandular densities</td>\n",
       "      <td>No</td>\n",
       "      <td>No</td>\n",
       "      <td>No</td>\n",
       "      <td>2</td>\n",
       "    </tr>\n",
       "    <tr>\n",
       "      <th>1</th>\n",
       "      <td>2005</td>\n",
       "      <td>Age 18-29</td>\n",
       "      <td>Non-Hispanic White</td>\n",
       "      <td>10-24.99</td>\n",
       "      <td>No</td>\n",
       "      <td>Age &lt; 20</td>\n",
       "      <td>Age &gt;=14</td>\n",
       "      <td>Pre- or peri-menopausal</td>\n",
       "      <td>Extremely dense</td>\n",
       "      <td>No</td>\n",
       "      <td>No</td>\n",
       "      <td>No</td>\n",
       "      <td>1</td>\n",
       "    </tr>\n",
       "    <tr>\n",
       "      <th>2</th>\n",
       "      <td>2005</td>\n",
       "      <td>Age 18-29</td>\n",
       "      <td>Non-Hispanic White</td>\n",
       "      <td>25-29.99</td>\n",
       "      <td>No</td>\n",
       "      <td>Age &lt; 20</td>\n",
       "      <td>Age &gt;=14</td>\n",
       "      <td>Pre- or peri-menopausal</td>\n",
       "      <td>Extremely dense</td>\n",
       "      <td>No</td>\n",
       "      <td>No</td>\n",
       "      <td>No</td>\n",
       "      <td>1</td>\n",
       "    </tr>\n",
       "    <tr>\n",
       "      <th>3</th>\n",
       "      <td>2005</td>\n",
       "      <td>Age 18-29</td>\n",
       "      <td>Non-Hispanic White</td>\n",
       "      <td>Unknown</td>\n",
       "      <td>No</td>\n",
       "      <td>Age &lt; 20</td>\n",
       "      <td>Age &gt;=14</td>\n",
       "      <td>Pre- or peri-menopausal</td>\n",
       "      <td>Extremely dense</td>\n",
       "      <td>No</td>\n",
       "      <td>No</td>\n",
       "      <td>No</td>\n",
       "      <td>2</td>\n",
       "    </tr>\n",
       "    <tr>\n",
       "      <th>4</th>\n",
       "      <td>2005</td>\n",
       "      <td>Age 18-29</td>\n",
       "      <td>Non-Hispanic White</td>\n",
       "      <td>35 or more</td>\n",
       "      <td>No</td>\n",
       "      <td>Age 20-24</td>\n",
       "      <td>Age &gt;=14</td>\n",
       "      <td>Pre- or peri-menopausal</td>\n",
       "      <td>Extremely dense</td>\n",
       "      <td>No</td>\n",
       "      <td>No</td>\n",
       "      <td>No</td>\n",
       "      <td>1</td>\n",
       "    </tr>\n",
       "  </tbody>\n",
       "</table>\n",
       "</div>"
      ],
      "text/plain": [
       "   year  age_group          ethinicity   bmi_group breast_cancer_history  \\\n",
       "0  2005  Age 18-29  Non-Hispanic White     Unknown                    No   \n",
       "1  2005  Age 18-29  Non-Hispanic White    10-24.99                    No   \n",
       "2  2005  Age 18-29  Non-Hispanic White    25-29.99                    No   \n",
       "3  2005  Age 18-29  Non-Hispanic White     Unknown                    No   \n",
       "4  2005  Age 18-29  Non-Hispanic White  35 or more                    No   \n",
       "\n",
       "  age_first_birth age_menarche                 menopaus  \\\n",
       "0        Age < 20     Age >=14  Pre- or peri-menopausal   \n",
       "1        Age < 20     Age >=14  Pre- or peri-menopausal   \n",
       "2        Age < 20     Age >=14  Pre- or peri-menopausal   \n",
       "3        Age < 20     Age >=14  Pre- or peri-menopausal   \n",
       "4       Age 20-24     Age >=14  Pre- or peri-menopausal   \n",
       "\n",
       "                BIRADS_breast_density biophx current_hrt first_degree_hx  \\\n",
       "0  Scattered fibroglandular densities     No          No              No   \n",
       "1                     Extremely dense     No          No              No   \n",
       "2                     Extremely dense     No          No              No   \n",
       "3                     Extremely dense     No          No              No   \n",
       "4                     Extremely dense     No          No              No   \n",
       "\n",
       "   count  \n",
       "0      2  \n",
       "1      1  \n",
       "2      1  \n",
       "3      2  \n",
       "4      1  "
      ]
     },
     "execution_count": 57,
     "metadata": {},
     "output_type": "execute_result"
    }
   ],
   "source": [
    "df.head()"
   ]
  },
  {
   "cell_type": "markdown",
   "id": "dda28f4e",
   "metadata": {},
   "source": [
    "### Total Number of breast cancer cases by Ethnicity "
   ]
  },
  {
   "cell_type": "code",
   "execution_count": 59,
   "id": "be6eaa02",
   "metadata": {},
   "outputs": [
    {
     "data": {
      "text/plain": [
       "Non-Hispanic White        721859\n",
       "Non-Hispanic Black        255476\n",
       "Asian/Pacific Islander    179926\n",
       "Hispanic                  177069\n",
       "Unknown                    98329\n",
       "Name: ethinicity, dtype: int64"
      ]
     },
     "execution_count": 59,
     "metadata": {},
     "output_type": "execute_result"
    }
   ],
   "source": [
    "df['ethinicity'].value_counts().head()"
   ]
  },
  {
   "cell_type": "code",
   "execution_count": 61,
   "id": "8f0512b4",
   "metadata": {},
   "outputs": [
    {
     "name": "stderr",
     "output_type": "stream",
     "text": [
      "/Users/natacha/opt/anaconda3/lib/python3.9/site-packages/seaborn/_decorators.py:36: FutureWarning: Pass the following variables as keyword args: x, y. From version 0.12, the only valid positional argument will be `data`, and passing other arguments without an explicit keyword will result in an error or misinterpretation.\n",
      "  warnings.warn(\n"
     ]
    },
    {
     "data": {
      "image/png": "[encoded data removed]",
      "text/plain": [
       "<Figure size 1800x600 with 1 Axes>"
      ]
     },
     "metadata": {},
     "output_type": "display_data"
    }
   ],
   "source": [
    "item_counts = df['ethinicity'].value_counts().sort_values(ascending=False)\n",
    "plt.figure(figsize=(18,6))\n",
    "sns.barplot(item_counts.index, item_counts.values, palette=sns.cubehelix_palette(15))\n",
    "plt.ylabel(\"Number of people\")\n",
    "plt.title(\"Total Number of Cases by Ethnicity\");\n",
    "plt.xticks(rotation=90);\n"
   ]
  },
  {
   "cell_type": "markdown",
   "id": "0d58d89c",
   "metadata": {},
   "source": [
    "### Total Number of Cases by Age of Menarche"
   ]
  },
  {
   "cell_type": "code",
   "execution_count": 62,
   "id": "f2226d64",
   "metadata": {},
   "outputs": [
    {
     "data": {
      "text/plain": [
       "Unknown      688431\n",
       "Age 12-13    366212\n",
       "Age >=14     256545\n",
       "Age <12      211152\n",
       "Name: age_menarche, dtype: int64"
      ]
     },
     "execution_count": 62,
     "metadata": {},
     "output_type": "execute_result"
    }
   ],
   "source": [
    "df['age_menarche'].value_counts().head()"
   ]
  },
  {
   "cell_type": "code",
   "execution_count": 63,
   "id": "2560275b",
   "metadata": {},
   "outputs": [
    {
     "name": "stderr",
     "output_type": "stream",
     "text": [
      "/Users/natacha/opt/anaconda3/lib/python3.9/site-packages/seaborn/_decorators.py:36: FutureWarning: Pass the following variables as keyword args: x, y. From version 0.12, the only valid positional argument will be `data`, and passing other arguments without an explicit keyword will result in an error or misinterpretation.\n",
      "  warnings.warn(\n"
     ]
    },
    {
     "data": {
      "image/png": "[encoded data removed]",
      "text/plain": [
       "<Figure size 1800x600 with 1 Axes>"
      ]
     },
     "metadata": {},
     "output_type": "display_data"
    }
   ],
   "source": [
    "num_people = df['age_menarche'].value_counts().sort_values(ascending=False)\n",
    "plt.figure(figsize=(18,6))\n",
    "sns.barplot(num_people.index, num_people.values, palette=sns.cubehelix_palette(15))\n",
    "plt.ylabel(\"Number of people\")\n",
    "plt.title(\"Total Number of Cases by Age of Menarche\");\n",
    "plt.xticks(rotation=90);\n"
   ]
  },
  {
   "cell_type": "markdown",
   "id": "c2864912",
   "metadata": {},
   "source": [
    "### What is the most of common Age Group in the dataset that has breast cancer?"
   ]
  },
  {
   "cell_type": "code",
   "execution_count": 64,
   "id": "4e6da95b",
   "metadata": {},
   "outputs": [
    {
     "data": {
      "text/plain": [
       "Age 55-59    254196\n",
       "Age 50-54    252910\n",
       "Age 45-49    189193\n",
       "Age 60-64    161787\n",
       "Age 65-69    147137\n",
       "Name: age_group, dtype: int64"
      ]
     },
     "execution_count": 64,
     "metadata": {},
     "output_type": "execute_result"
    }
   ],
   "source": [
    "df['age_group'].value_counts().head()"
   ]
  },
  {
   "cell_type": "code",
   "execution_count": 65,
   "id": "fb8afebc",
   "metadata": {},
   "outputs": [
    {
     "name": "stderr",
     "output_type": "stream",
     "text": [
      "/Users/natacha/opt/anaconda3/lib/python3.9/site-packages/seaborn/_decorators.py:36: FutureWarning: Pass the following variables as keyword args: x, y. From version 0.12, the only valid positional argument will be `data`, and passing other arguments without an explicit keyword will result in an error or misinterpretation.\n",
      "  warnings.warn(\n"
     ]
    },
    {
     "data": {
      "image/png": "[encoded data removed]",
      "text/plain": [
       "<Figure size 1800x600 with 1 Axes>"
      ]
     },
     "metadata": {},
     "output_type": "display_data"
    }
   ],
   "source": [
    "num_people = df['age_group'].value_counts().sort_values(ascending=False)\n",
    "plt.figure(figsize=(18,6))\n",
    "sns.barplot(num_people.index, num_people.values, palette=sns.cubehelix_palette(15))\n",
    "plt.ylabel(\"Number of people\")\n",
    "plt.title(\"Total Number of Cases by Age Group\");\n",
    "plt.xticks(rotation=90);"
   ]
  },
  {
   "cell_type": "markdown",
   "id": "4410df3b",
   "metadata": {},
   "source": [
    "### Which ethnicity has the most breast cancer history in their family?"
   ]
  },
  {
   "cell_type": "code",
   "execution_count": 66,
   "id": "8678b2c8",
   "metadata": {},
   "outputs": [
    {
     "data": {
      "text/html": [
       "<div>\n",
       "<style scoped>\n",
       "    .dataframe tbody tr th:only-of-type {\n",
       "        vertical-align: middle;\n",
       "    }\n",
       "\n",
       "    .dataframe tbody tr th {\n",
       "        vertical-align: top;\n",
       "    }\n",
       "\n",
       "    .dataframe thead th {\n",
       "        text-align: right;\n",
       "    }\n",
       "</style>\n",
       "<table border=\"1\" class=\"dataframe\">\n",
       "  <thead>\n",
       "    <tr style=\"text-align: right;\">\n",
       "      <th></th>\n",
       "      <th>year</th>\n",
       "      <th>age_group</th>\n",
       "      <th>ethinicity</th>\n",
       "      <th>bmi_group</th>\n",
       "      <th>breast_cancer_history</th>\n",
       "      <th>age_first_birth</th>\n",
       "      <th>age_menarche</th>\n",
       "      <th>menopaus</th>\n",
       "      <th>BIRADS_breast_density</th>\n",
       "      <th>biophx</th>\n",
       "      <th>current_hrt</th>\n",
       "      <th>first_degree_hx</th>\n",
       "      <th>count</th>\n",
       "    </tr>\n",
       "  </thead>\n",
       "  <tbody>\n",
       "    <tr>\n",
       "      <th>0</th>\n",
       "      <td>2005</td>\n",
       "      <td>Age 18-29</td>\n",
       "      <td>Non-Hispanic White</td>\n",
       "      <td>Unknown</td>\n",
       "      <td>No</td>\n",
       "      <td>Age &lt; 20</td>\n",
       "      <td>Age &gt;=14</td>\n",
       "      <td>Pre- or peri-menopausal</td>\n",
       "      <td>Scattered fibroglandular densities</td>\n",
       "      <td>No</td>\n",
       "      <td>No</td>\n",
       "      <td>No</td>\n",
       "      <td>2</td>\n",
       "    </tr>\n",
       "    <tr>\n",
       "      <th>1</th>\n",
       "      <td>2005</td>\n",
       "      <td>Age 18-29</td>\n",
       "      <td>Non-Hispanic White</td>\n",
       "      <td>10-24.99</td>\n",
       "      <td>No</td>\n",
       "      <td>Age &lt; 20</td>\n",
       "      <td>Age &gt;=14</td>\n",
       "      <td>Pre- or peri-menopausal</td>\n",
       "      <td>Extremely dense</td>\n",
       "      <td>No</td>\n",
       "      <td>No</td>\n",
       "      <td>No</td>\n",
       "      <td>1</td>\n",
       "    </tr>\n",
       "    <tr>\n",
       "      <th>2</th>\n",
       "      <td>2005</td>\n",
       "      <td>Age 18-29</td>\n",
       "      <td>Non-Hispanic White</td>\n",
       "      <td>25-29.99</td>\n",
       "      <td>No</td>\n",
       "      <td>Age &lt; 20</td>\n",
       "      <td>Age &gt;=14</td>\n",
       "      <td>Pre- or peri-menopausal</td>\n",
       "      <td>Extremely dense</td>\n",
       "      <td>No</td>\n",
       "      <td>No</td>\n",
       "      <td>No</td>\n",
       "      <td>1</td>\n",
       "    </tr>\n",
       "    <tr>\n",
       "      <th>3</th>\n",
       "      <td>2005</td>\n",
       "      <td>Age 18-29</td>\n",
       "      <td>Non-Hispanic White</td>\n",
       "      <td>Unknown</td>\n",
       "      <td>No</td>\n",
       "      <td>Age &lt; 20</td>\n",
       "      <td>Age &gt;=14</td>\n",
       "      <td>Pre- or peri-menopausal</td>\n",
       "      <td>Extremely dense</td>\n",
       "      <td>No</td>\n",
       "      <td>No</td>\n",
       "      <td>No</td>\n",
       "      <td>2</td>\n",
       "    </tr>\n",
       "    <tr>\n",
       "      <th>4</th>\n",
       "      <td>2005</td>\n",
       "      <td>Age 18-29</td>\n",
       "      <td>Non-Hispanic White</td>\n",
       "      <td>35 or more</td>\n",
       "      <td>No</td>\n",
       "      <td>Age 20-24</td>\n",
       "      <td>Age &gt;=14</td>\n",
       "      <td>Pre- or peri-menopausal</td>\n",
       "      <td>Extremely dense</td>\n",
       "      <td>No</td>\n",
       "      <td>No</td>\n",
       "      <td>No</td>\n",
       "      <td>1</td>\n",
       "    </tr>\n",
       "  </tbody>\n",
       "</table>\n",
       "</div>"
      ],
      "text/plain": [
       "   year  age_group          ethinicity   bmi_group breast_cancer_history  \\\n",
       "0  2005  Age 18-29  Non-Hispanic White     Unknown                    No   \n",
       "1  2005  Age 18-29  Non-Hispanic White    10-24.99                    No   \n",
       "2  2005  Age 18-29  Non-Hispanic White    25-29.99                    No   \n",
       "3  2005  Age 18-29  Non-Hispanic White     Unknown                    No   \n",
       "4  2005  Age 18-29  Non-Hispanic White  35 or more                    No   \n",
       "\n",
       "  age_first_birth age_menarche                 menopaus  \\\n",
       "0        Age < 20     Age >=14  Pre- or peri-menopausal   \n",
       "1        Age < 20     Age >=14  Pre- or peri-menopausal   \n",
       "2        Age < 20     Age >=14  Pre- or peri-menopausal   \n",
       "3        Age < 20     Age >=14  Pre- or peri-menopausal   \n",
       "4       Age 20-24     Age >=14  Pre- or peri-menopausal   \n",
       "\n",
       "                BIRADS_breast_density biophx current_hrt first_degree_hx  \\\n",
       "0  Scattered fibroglandular densities     No          No              No   \n",
       "1                     Extremely dense     No          No              No   \n",
       "2                     Extremely dense     No          No              No   \n",
       "3                     Extremely dense     No          No              No   \n",
       "4                     Extremely dense     No          No              No   \n",
       "\n",
       "   count  \n",
       "0      2  \n",
       "1      1  \n",
       "2      1  \n",
       "3      2  \n",
       "4      1  "
      ]
     },
     "execution_count": 66,
     "metadata": {},
     "output_type": "execute_result"
    }
   ],
   "source": [
    "df.head()"
   ]
  },
  {
   "cell_type": "markdown",
   "id": "327b4168",
   "metadata": {},
   "source": [
    "### Number of people with Breast Cancer History by Ethnicity"
   ]
  },
  {
   "cell_type": "code",
   "execution_count": 85,
   "id": "c5f07bf6",
   "metadata": {},
   "outputs": [
    {
     "data": {
      "text/html": [
       "<div>\n",
       "<style scoped>\n",
       "    .dataframe tbody tr th:only-of-type {\n",
       "        vertical-align: middle;\n",
       "    }\n",
       "\n",
       "    .dataframe tbody tr th {\n",
       "        vertical-align: top;\n",
       "    }\n",
       "\n",
       "    .dataframe thead th {\n",
       "        text-align: right;\n",
       "    }\n",
       "</style>\n",
       "<table border=\"1\" class=\"dataframe\">\n",
       "  <thead>\n",
       "    <tr style=\"text-align: right;\">\n",
       "      <th></th>\n",
       "      <th></th>\n",
       "      <th>size</th>\n",
       "    </tr>\n",
       "    <tr>\n",
       "      <th>ethinicity</th>\n",
       "      <th>first_degree_hx</th>\n",
       "      <th></th>\n",
       "    </tr>\n",
       "  </thead>\n",
       "  <tbody>\n",
       "    <tr>\n",
       "      <th rowspan=\"3\" valign=\"top\">Asian/Pacific Islander</th>\n",
       "      <th>No</th>\n",
       "      <td>131886</td>\n",
       "    </tr>\n",
       "    <tr>\n",
       "      <th>Unknown</th>\n",
       "      <td>11951</td>\n",
       "    </tr>\n",
       "    <tr>\n",
       "      <th>Yes</th>\n",
       "      <td>36089</td>\n",
       "    </tr>\n",
       "    <tr>\n",
       "      <th rowspan=\"3\" valign=\"top\">Hispanic</th>\n",
       "      <th>No</th>\n",
       "      <td>134556</td>\n",
       "    </tr>\n",
       "    <tr>\n",
       "      <th>Unknown</th>\n",
       "      <td>8874</td>\n",
       "    </tr>\n",
       "    <tr>\n",
       "      <th>Yes</th>\n",
       "      <td>33639</td>\n",
       "    </tr>\n",
       "    <tr>\n",
       "      <th rowspan=\"3\" valign=\"top\">Native American</th>\n",
       "      <th>No</th>\n",
       "      <td>12840</td>\n",
       "    </tr>\n",
       "    <tr>\n",
       "      <th>Unknown</th>\n",
       "      <td>629</td>\n",
       "    </tr>\n",
       "    <tr>\n",
       "      <th>Yes</th>\n",
       "      <td>3036</td>\n",
       "    </tr>\n",
       "    <tr>\n",
       "      <th rowspan=\"3\" valign=\"top\">Non-Hispanic Black</th>\n",
       "      <th>No</th>\n",
       "      <td>177430</td>\n",
       "    </tr>\n",
       "    <tr>\n",
       "      <th>Unknown</th>\n",
       "      <td>10873</td>\n",
       "    </tr>\n",
       "    <tr>\n",
       "      <th>Yes</th>\n",
       "      <td>67173</td>\n",
       "    </tr>\n",
       "    <tr>\n",
       "      <th rowspan=\"3\" valign=\"top\">Non-Hispanic White</th>\n",
       "      <th>No</th>\n",
       "      <td>444127</td>\n",
       "    </tr>\n",
       "    <tr>\n",
       "      <th>Unknown</th>\n",
       "      <td>42342</td>\n",
       "    </tr>\n",
       "    <tr>\n",
       "      <th>Yes</th>\n",
       "      <td>235390</td>\n",
       "    </tr>\n",
       "    <tr>\n",
       "      <th rowspan=\"3\" valign=\"top\">Other/Mixed</th>\n",
       "      <th>No</th>\n",
       "      <td>53885</td>\n",
       "    </tr>\n",
       "    <tr>\n",
       "      <th>Unknown</th>\n",
       "      <td>3870</td>\n",
       "    </tr>\n",
       "    <tr>\n",
       "      <th>Yes</th>\n",
       "      <td>15421</td>\n",
       "    </tr>\n",
       "    <tr>\n",
       "      <th rowspan=\"3\" valign=\"top\">Unknown</th>\n",
       "      <th>No</th>\n",
       "      <td>66853</td>\n",
       "    </tr>\n",
       "    <tr>\n",
       "      <th>Unknown</th>\n",
       "      <td>9691</td>\n",
       "    </tr>\n",
       "    <tr>\n",
       "      <th>Yes</th>\n",
       "      <td>21785</td>\n",
       "    </tr>\n",
       "  </tbody>\n",
       "</table>\n",
       "</div>"
      ],
      "text/plain": [
       "                                          size\n",
       "ethinicity             first_degree_hx        \n",
       "Asian/Pacific Islander No               131886\n",
       "                       Unknown           11951\n",
       "                       Yes               36089\n",
       "Hispanic               No               134556\n",
       "                       Unknown            8874\n",
       "                       Yes               33639\n",
       "Native American        No                12840\n",
       "                       Unknown             629\n",
       "                       Yes                3036\n",
       "Non-Hispanic Black     No               177430\n",
       "                       Unknown           10873\n",
       "                       Yes               67173\n",
       "Non-Hispanic White     No               444127\n",
       "                       Unknown           42342\n",
       "                       Yes              235390\n",
       "Other/Mixed            No                53885\n",
       "                       Unknown            3870\n",
       "                       Yes               15421\n",
       "Unknown                No                66853\n",
       "                       Unknown            9691\n",
       "                       Yes               21785"
      ]
     },
     "metadata": {},
     "output_type": "display_data"
    }
   ],
   "source": [
    "new = df.groupby(['ethinicity','first_degree_hx']).size().to_frame('size')\n",
    "display(new)"
   ]
  },
  {
   "cell_type": "code",
   "execution_count": null,
   "id": "ab305748",
   "metadata": {},
   "outputs": [],
   "source": []
  },
  {
   "cell_type": "code",
   "execution_count": null,
   "id": "ee761e22",
   "metadata": {},
   "outputs": [],
   "source": []
  },
  {
   "cell_type": "code",
   "execution_count": 86,
   "id": "0959c505",
   "metadata": {},
   "outputs": [
    {
     "data": {
      "image/png": "[encoded data removed]",
      "text/plain": [
       "<Figure size 640x480 with 1 Axes>"
      ]
     },
     "metadata": {},
     "output_type": "display_data"
    }
   ],
   "source": [
    "s = new.xs('Non-Hispanic White')\n",
    "p1 = s.plot(kind='bar', colormap='Pastel1', title='Breast Cancer History(Family) in Non-Hispanic White patients')"
   ]
  },
  {
   "cell_type": "code",
   "execution_count": null,
   "id": "baec429b",
   "metadata": {},
   "outputs": [],
   "source": [
    "s = new.xs('Asian/Pacific Islander')\n",
    "p1 = s.plot(kind='bar', colormap='Pastel1', title='Breast Cancer History in Asian/Pacific Islander patients')"
   ]
  },
  {
   "cell_type": "code",
   "execution_count": 87,
   "id": "6b30e095",
   "metadata": {},
   "outputs": [
    {
     "data": {
      "text/plain": [
       "(1522340, 13)"
      ]
     },
     "execution_count": 87,
     "metadata": {},
     "output_type": "execute_result"
    }
   ],
   "source": [
    "new_raw_data.shape"
   ]
  },
  {
   "cell_type": "code",
   "execution_count": null,
   "id": "8e873981",
   "metadata": {},
   "outputs": [],
   "source": []
  },
  {
   "cell_type": "code",
   "execution_count": null,
   "id": "dd22a2b4",
   "metadata": {},
   "outputs": [],
   "source": []
  }
 ],
 "metadata": {
  "kernelspec": {
   "display_name": "Python 3 (ipykernel)",
   "language": "python",
   "name": "python3"
  },
  "language_info": {
   "codemirror_mode": {
    "name": "ipython",
    "version": 3
   },
   "file_extension": ".py",
   "mimetype": "text/x-python",
   "name": "python",
   "nbconvert_exporter": "python",
   "pygments_lexer": "ipython3",
   "version": "3.9.13"
  }
 },
 "nbformat": 4,
 "nbformat_minor": 5
}
